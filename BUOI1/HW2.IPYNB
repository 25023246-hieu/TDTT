{
 "cells": [
  {
   "cell_type": "code",
   "execution_count": 1,
   "id": "68a3e67d",
   "metadata": {},
   "outputs": [
    {
     "name": "stdout",
     "output_type": "stream",
     "text": [
      "6\n"
     ]
    }
   ],
   "source": [
    "n = int(input())\n",
    "print ( n*2 )"
   ]
  },
  {
   "cell_type": "code",
   "execution_count": 9,
   "id": "9d5fe16a",
   "metadata": {},
   "outputs": [
    {
     "name": "stdout",
     "output_type": "stream",
     "text": [
      "7.93\n"
     ]
    }
   ],
   "source": [
    "a , b = map( int , input().split())\n",
    "s = (a/2) * (a/2) * 3.14\n",
    "st=float(a*b)\n",
    "st=st-s\n",
    "print ( f'{st:.2f}')"
   ]
  },
  {
   "cell_type": "code",
   "execution_count": 13,
   "id": "8fe405d3",
   "metadata": {},
   "outputs": [
    {
     "name": "stdout",
     "output_type": "stream",
     "text": [
      "b\n"
     ]
    }
   ],
   "source": [
    "n = input()\n",
    "if n>='A' and n<='Z':\n",
    "    print (chr(ord(n)+32))\n",
    "else:\n",
    "    print (chr (ord (n)-32))"
   ]
  },
  {
   "cell_type": "code",
   "execution_count": 1,
   "id": "29c5691d",
   "metadata": {},
   "outputs": [
    {
     "name": "stdout",
     "output_type": "stream",
     "text": [
      "2 không phải kí tự alphabet\n"
     ]
    }
   ],
   "source": [
    "n = input()\n",
    "if n<'0' and n>'9':\n",
    "    print ( n,\"là kí tự alphabet\")\n",
    "else:\n",
    "    print ( n,\"không phải kí tự alphabet\")\n",
    "           "
   ]
  },
  {
   "cell_type": "code",
   "execution_count": 1,
   "id": "e381720a",
   "metadata": {},
   "outputs": [
    {
     "name": "stdout",
     "output_type": "stream",
     "text": [
      "b\n"
     ]
    }
   ],
   "source": [
    "n = input()\n",
    "if n=='A':\n",
    "    print (\"không thoả mãn yêu cầu bài toán\")\n",
    "else :\n",
    "    print( chr(ord (n)+31))"
   ]
  },
  {
   "cell_type": "code",
   "execution_count": null,
   "id": "7c8c5b54",
   "metadata": {},
   "outputs": [
    {
     "name": "stdout",
     "output_type": "stream",
     "text": [
      "Khong phai 3 canh cua tam giac\n"
     ]
    }
   ],
   "source": [
    "import math\n",
    "a,b,c= map (int , input() . split() )\n",
    "if a + b > c and a + c > b and b + c > a:\n",
    "    # cong thuc tinh s tam giac(cong thuc Heron)\n",
    "    p = float( ( a + b + c) / 2) #p la nua chu vi\n",
    "    s = math.sqrt(p * (p-a) * (p-b) * (p-c))\n",
    "    print ( f'{s:.2f}')\n",
    "else:\n",
    "    print ( \"Khong phai 3 canh cua tam giac\")"
   ]
  },
  {
   "cell_type": "code",
   "execution_count": 31,
   "id": "f65f8c00",
   "metadata": {},
   "outputs": [
    {
     "name": "stdout",
     "output_type": "stream",
     "text": [
      "e a\n"
     ]
    }
   ],
   "source": [
    "n = input()\n",
    "print(n[4] , n[8])"
   ]
  },
  {
   "cell_type": "code",
   "execution_count": 46,
   "id": "367019b6",
   "metadata": {},
   "outputs": [
    {
     "name": "stdout",
     "output_type": "stream",
     "text": [
      "1855505\n"
     ]
    }
   ],
   "source": [
    "name = input(\" Ten chu ho : \")\n",
    "month1 = int( input(\" Chi so thang truoc: \" ))\n",
    "month2 = int( input(\" Chi so thang sau: \" ))\n",
    "sum = month2 - month1\n",
    "money=0\n",
    "if sum<=50:\n",
    "    money=sum*1984\n",
    "elif sum>=51 and sum<=100:\n",
    "    money=( sum-50 ) * 2050 + 50 * 1984\n",
    "elif sum>=101 and sum<=200:\n",
    "    money= 50 * 1984 + 50 * 2050 + (sum-100) * 2380\n",
    "elif sum>=201 and sum <= 300:\n",
    "    money= 50 * 1984 + 50 * 2050 + 100 * 2380 + (sum-200)*2998\n",
    "elif sum>=301 and sum <= 400:\n",
    "    money= 50 * 1984 + 50 * 2050 + 100 * 2380 + 100 * 2998 + (sum-300)*3350\n",
    "elif sum>=401:\n",
    "    money= 50 * 1984 + 50 * 2050 + 100 * 2380 + 100 * 2998 + 100*3350 + (sum-400)*3460\n",
    "money=money*1.08 \n",
    "q=int(money)\n",
    "if money - q < 0.5:\n",
    "    print (q)\n",
    "else :\n",
    "    print ( q+ 1)\n",
    "\n",
    "\n"
   ]
  },
  {
   "cell_type": "code",
   "execution_count": 1,
   "id": "e8e843d7",
   "metadata": {},
   "outputs": [
    {
     "name": "stdout",
     "output_type": "stream",
     "text": [
      "so le\n"
     ]
    }
   ],
   "source": [
    "n = int ( input ())\n",
    "if n % 2 == 0:\n",
    "    print (\"so chan\")\n",
    "else :\n",
    "    print ( \"so le\")\n",
    "    "
   ]
  },
  {
   "cell_type": "code",
   "execution_count": 3,
   "id": "af4b9cc9",
   "metadata": {},
   "outputs": [
    {
     "name": "stdout",
     "output_type": "stream",
     "text": [
      "False\n"
     ]
    }
   ],
   "source": [
    "n = int (input ())\n",
    "if n %10 == 5:\n",
    "    print ( \"True\")\n",
    "else :\n",
    "    print (\"False\")"
   ]
  },
  {
   "cell_type": "code",
   "execution_count": 5,
   "id": "ef70843d",
   "metadata": {},
   "outputs": [
    {
     "name": "stdout",
     "output_type": "stream",
     "text": [
      "False\n"
     ]
    }
   ],
   "source": [
    "n = int (input ())\n",
    "if n % 3 == 0 and n % 5== 0:\n",
    "    print (\"True\")\n",
    "else :\n",
    "    print (\"False\")\n",
    "    "
   ]
  },
  {
   "cell_type": "code",
   "execution_count": 7,
   "id": "f934fb1e",
   "metadata": {},
   "outputs": [
    {
     "name": "stdout",
     "output_type": "stream",
     "text": [
      " du tuoi bau cu\n"
     ]
    }
   ],
   "source": [
    "n = int (input ())\n",
    "if 2025 - n >= 18 :\n",
    "    print (\" du tuoi bau cu\")\n",
    "else :\n",
    "    print (\"khong du tuoi bau cu\")"
   ]
  },
  {
   "cell_type": "code",
   "execution_count": null,
   "id": "e145fb54",
   "metadata": {},
   "outputs": [],
   "source": [
    "a,b =map (int , input (). split ())\n",
    "if a > b :\n",
    "    print (a)\n",
    "elif a < b :\n",
    "    print (b)\n",
    "elif a== b :\n",
    "    print (\" hai so bang nhau\")\n",
    "    "
   ]
  },
  {
   "cell_type": "code",
   "execution_count": null,
   "id": "3f672afc",
   "metadata": {},
   "outputs": [
    {
     "name": "stdout",
     "output_type": "stream",
     "text": [
      "9 la chu so\n"
     ]
    }
   ],
   "source": [
    "n =input()\n",
    "if n>= '0' and n<='9':\n",
    "    print ( n ,\"la chu so\")\n",
    "else :\n",
    "    print ( n, \"la chu cai\")"
   ]
  },
  {
   "cell_type": "code",
   "execution_count": null,
   "id": "43b2f122",
   "metadata": {},
   "outputs": [],
   "source": [
    "n = float( input ())\n",
    "if n >= 8:\n",
    "    print (\"Giỏi\")\n",
    "elif n<8 and n>= 6.5 :\n",
    "    print (\"Khá\")\n",
    "elif n < 6.5 and n>=5:\n",
    "    print (\"Trung bình\")\n",
    "elif n < 5 :\n",
    "    print (\" Yếu\")\n",
    "    "
   ]
  },
  {
   "cell_type": "code",
   "execution_count": null,
   "id": "932ac104",
   "metadata": {},
   "outputs": [],
   "source": [
    "n = int (input())\n",
    "if n % 4 == 0 and n % 100 !=0 :\n",
    "    print (n, \"la nam nhuan\")\n",
    "else :\n",
    "    print (n , \"khong phai la nam nhuan\")"
   ]
  },
  {
   "cell_type": "code",
   "execution_count": 10,
   "id": "71e0b51b",
   "metadata": {},
   "outputs": [
    {
     "name": "stdout",
     "output_type": "stream",
     "text": [
      "Chín\n"
     ]
    }
   ],
   "source": [
    "n =int (input ())\n",
    "def so ( x ):\n",
    "    match x:\n",
    "        case 0:\n",
    "            return \"Không\"\n",
    "        case 1:\n",
    "            return \"Một\"\n",
    "        case 2:\n",
    "            return \"Hai\"\n",
    "        case 3:\n",
    "            return \"Ba\"\n",
    "        case 4:\n",
    "            return \"Bốn\"\n",
    "        case 5:\n",
    "            return \"Năm\"\n",
    "        case 6:\n",
    "            return \"Sáu\"\n",
    "        case 7:\n",
    "            return \"Bảy\"\n",
    "        case 8:\n",
    "            return \"Tám\"\n",
    "        case 9:\n",
    "            return \"Chín\"\n",
    "print ( so(n) )"
   ]
  },
  {
   "cell_type": "code",
   "execution_count": 11,
   "id": "8408ed7e",
   "metadata": {},
   "outputs": [
    {
     "name": "stdout",
     "output_type": "stream",
     "text": [
      "hoc lai\n"
     ]
    }
   ],
   "source": [
    "n= int ( input())\n",
    "if n >= 4:\n",
    "    print (\"qua mon\")\n",
    "else :\n",
    "    print ( \"hoc lai\")"
   ]
  },
  {
   "cell_type": "code",
   "execution_count": 2,
   "id": "e9613c52",
   "metadata": {},
   "outputs": [
    {
     "name": "stdout",
     "output_type": "stream",
     "text": [
      " du 18 tuoi\n"
     ]
    }
   ],
   "source": [
    "n =int ( input ())\n",
    "if 2025-n >=18 :\n",
    "    print (\" du 18 tuoi\")\n",
    "else :\n",
    "    print (\"khong du 18 tuoi\")"
   ]
  },
  {
   "cell_type": "code",
   "execution_count": 2,
   "id": "b3673fb2",
   "metadata": {},
   "outputs": [
    {
     "name": "stdout",
     "output_type": "stream",
     "text": [
      "Nhap so nguyen duong n: \n",
      "6\n"
     ]
    }
   ],
   "source": [
    "print ( \"Nhap so nguyen duong n: \")\n",
    "n=  int ( input ())\n",
    "print ( n*2 )"
   ]
  }
 ],
 "metadata": {
  "kernelspec": {
   "display_name": "Python 3",
   "language": "python",
   "name": "python3"
  },
  "language_info": {
   "codemirror_mode": {
    "name": "ipython",
    "version": 3
   },
   "file_extension": ".py",
   "mimetype": "text/x-python",
   "name": "python",
   "nbconvert_exporter": "python",
   "pygments_lexer": "ipython3",
   "version": "3.13.7"
  }
 },
 "nbformat": 4,
 "nbformat_minor": 5
}
