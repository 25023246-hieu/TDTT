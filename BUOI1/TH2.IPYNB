{
 "cells": [
  {
   "cell_type": "code",
   "execution_count": 95,
   "id": "b7932a0e",
   "metadata": {},
   "outputs": [
    {
     "name": "stdout",
     "output_type": "stream",
     "text": [
      "Hello World!\n"
     ]
    }
   ],
   "source": [
    "print(\"Hello World!\")"
   ]
  },
  {
   "cell_type": "code",
   "execution_count": null,
   "id": "e78b364f",
   "metadata": {},
   "outputs": [],
   "source": [
    "s=input()\n",
    "print(s)"
   ]
  },
  {
   "cell_type": "code",
   "execution_count": null,
   "id": "fe8f9017",
   "metadata": {},
   "outputs": [],
   "source": [
    "a,b=map(float,input().split())\n",
    "s=a+b\n",
    "x=a-b\n",
    "m=a*b\n",
    "n=int(a/b)\n",
    "q=float(a/b)\n",
    "print(int(s),int(x),int(m),n,f'{q:.2f}')\n"
   ]
  },
  {
   "cell_type": "code",
   "execution_count": null,
   "id": "a1840a94",
   "metadata": {},
   "outputs": [],
   "source": [
    "a1,b1,c1,a2,b2,a3=map(float,input().split())\n",
    "TB=((a1+b1+c1)+(a2+b2)*2+a3*3)/10\n",
    "print(f'{TB:.1f}')"
   ]
  },
  {
   "cell_type": "code",
   "execution_count": null,
   "id": "e0d62556",
   "metadata": {},
   "outputs": [
    {
     "name": "stdout",
     "output_type": "stream",
     "text": [
      "8\n"
     ]
    }
   ],
   "source": [
    "a,b=map(int,input().split())\n",
    "print(a**b)"
   ]
  },
  {
   "cell_type": "code",
   "execution_count": 1,
   "id": "d41cdbaa",
   "metadata": {},
   "outputs": [
    {
     "name": "stdout",
     "output_type": "stream",
     "text": [
      "B\n"
     ]
    }
   ],
   "source": [
    "a=input()\n",
    "print(chr(ord(a)-32))\n"
   ]
  },
  {
   "cell_type": "code",
   "execution_count": null,
   "id": "aadb378f",
   "metadata": {},
   "outputs": [
    {
     "data": {
      "text/plain": [
       "(512, 512)"
      ]
     },
     "execution_count": 63,
     "metadata": {},
     "output_type": "execute_result"
    }
   ],
   "source": [
    "A = ((13 ** 2) * 3) + 5 \n",
    "B = 13**2*3 + 5\n",
    "A,B"
   ]
  },
  {
   "cell_type": "code",
   "execution_count": null,
   "id": "b4e700d5",
   "metadata": {},
   "outputs": [
    {
     "name": "stdout",
     "output_type": "stream",
     "text": [
      "33.80\n"
     ]
    }
   ],
   "source": [
    "C=float(input())\n",
    "F = 9/5*C + 32 \n",
    "print(f'{F:.2f}')"
   ]
  },
  {
   "cell_type": "code",
   "execution_count": null,
   "id": "000dc028",
   "metadata": {},
   "outputs": [
    {
     "data": {
      "text/plain": [
       "35.75"
      ]
     },
     "execution_count": 71,
     "metadata": {},
     "output_type": "execute_result"
    }
   ],
   "source": [
    "x=int(input())\n",
    "s=x+10\n",
    "s=s*1.3*1.1\n",
    "s"
   ]
  },
  {
   "cell_type": "code",
   "execution_count": null,
   "id": "4995c96c",
   "metadata": {},
   "outputs": [
    {
     "name": "stdout",
     "output_type": "stream",
     "text": [
      "Hi khoi,quan and hieu.\n"
     ]
    }
   ],
   "source": [
    "a,b,c=map(str,input().split())\n",
    "print(\"Hi\",' ',c,',',b,' ',\"and\",' ',a,'.',sep=\"\")\n",
    "\n"
   ]
  },
  {
   "cell_type": "code",
   "execution_count": null,
   "id": "b52cdbfe",
   "metadata": {},
   "outputs": [
    {
     "name": "stdout",
     "output_type": "stream",
     "text": [
      "3600 1800\n"
     ]
    }
   ],
   "source": [
    "time,mn=map(int,input().split())\n",
    "print(time*3600,mn*60,sep=\" \")"
   ]
  },
  {
   "cell_type": "code",
   "execution_count": null,
   "id": "e263491f",
   "metadata": {},
   "outputs": [
    {
     "name": "stdout",
     "output_type": "stream",
     "text": [
      "54\n"
     ]
    }
   ],
   "source": [
    "n=int(input())\n",
    "print(n*n*6)"
   ]
  },
  {
   "cell_type": "code",
   "execution_count": null,
   "id": "6cbbb336",
   "metadata": {},
   "outputs": [
    {
     "name": "stdout",
     "output_type": "stream",
     "text": [
      "6\n"
     ]
    }
   ],
   "source": [
    "a,b=map(int,input().split())\n",
    "s=a*b\n",
    "print(s%10)"
   ]
  },
  {
   "cell_type": "code",
   "execution_count": null,
   "id": "a95d8161",
   "metadata": {},
   "outputs": [
    {
     "name": "stdout",
     "output_type": "stream",
     "text": [
      "5 4\n"
     ]
    }
   ],
   "source": [
    "a,b=map(int,input().split())\n",
    "a=a-b\n",
    "b=b+a\n",
    "a=b-a\n",
    "print(a,b)"
   ]
  },
  {
   "cell_type": "markdown",
   "id": "183d39f4",
   "metadata": {},
   "source": [
    "//W2A15"
   ]
  },
  {
   "cell_type": "code",
   "execution_count": 99,
   "id": "025a0e97",
   "metadata": {},
   "outputs": [
    {
     "name": "stdout",
     "output_type": "stream",
     "text": [
      "Spring\n",
      "Summer\n",
      "Autumn\n",
      "Winter\n"
     ]
    }
   ],
   "source": [
    "print(\"Spring\"+'\\n'+\"Summer\"+'\\n'+\"Autumn\"+'\\n'\"Winter\")"
   ]
  },
  {
   "cell_type": "code",
   "execution_count": 100,
   "id": "c77e3f74",
   "metadata": {},
   "outputs": [
    {
     "name": "stdout",
     "output_type": "stream",
     "text": [
      "*\n",
      "***\n",
      "*****\n"
     ]
    }
   ],
   "source": [
    "print('*'+'\\n'+\"***\"+'\\n'+\"*****\")\n"
   ]
  },
  {
   "cell_type": "code",
   "execution_count": 101,
   "id": "ac62eabc",
   "metadata": {},
   "outputs": [
    {
     "name": "stdout",
     "output_type": "stream",
     "text": [
      "### # #   ### ###\n",
      " #  #  #   #   # \n",
      " #  #   #  #   #\n",
      " #  #  #   #   #  \n",
      " #  # #    #   #  \n"
     ]
    }
   ],
   "source": [
    "print(\"### # #   ### ###\")\n",
    "print(\" #  #  #   #   # \")\n",
    "print(\" #  #   #  #   #\")\n",
    "print(\" #  #  #   #   #  \")\n",
    "print(\" #  # #    #   #  \")"
   ]
  },
  {
   "cell_type": "code",
   "execution_count": 102,
   "id": "57833c9b",
   "metadata": {},
   "outputs": [
    {
     "name": "stdout",
     "output_type": "stream",
     "text": [
      "Monday\n",
      "Tuesday\n",
      "Wednesday\n",
      "Thursday\n",
      "Friday\n",
      "Saturday\n",
      "Sunday\n"
     ]
    }
   ],
   "source": [
    "print(\"Monday\"+'\\n'+\"Tuesday\"+'\\n'+'Wednesday'+'\\n'+\"Thursday\"+'\\n'+\"Friday\"+'\\n'+\"Saturday\"+'\\n'+\"Sunday\")"
   ]
  },
  {
   "cell_type": "code",
   "execution_count": 103,
   "id": "8a516c13",
   "metadata": {},
   "outputs": [
    {
     "name": "stdout",
     "output_type": "stream",
     "text": [
      "January\n",
      "February\n",
      "March\n",
      "April\n",
      "May\n",
      "June\n",
      "July\n",
      "August\n",
      "September\n",
      "October\n",
      "November\n",
      "December\n"
     ]
    }
   ],
   "source": [
    "print(\"January\"+'\\n'+\"February\"+'\\n'+'March'+'\\n'+\"April\"+'\\n'+\"May\"+'\\n'+\"June\"+'\\n'+\"July\"+'\\n'+\"August\"+'\\n'+\"September\"+'\\n'+\"October\"+'\\n'+\"November\"+'\\n'+\"December\")"
   ]
  },
  {
   "cell_type": "code",
   "execution_count": 105,
   "id": "097cca2b",
   "metadata": {},
   "outputs": [
    {
     "name": "stdout",
     "output_type": "stream",
     "text": [
      "Hello, world\n",
      "Hello, world\n",
      "Hello, world\n",
      "Hello, world\n",
      "Hello, world\n",
      "Hello, world\n",
      "Hello, world\n",
      "Hello, world\n",
      "Hello, world\n",
      "Hello, world\n"
     ]
    }
   ],
   "source": [
    "for i in range(10):\n",
    "    print(\"Hello, world\")"
   ]
  }
 ],
 "metadata": {
  "kernelspec": {
   "display_name": "Python 3",
   "language": "python",
   "name": "python3"
  },
  "language_info": {
   "codemirror_mode": {
    "name": "ipython",
    "version": 3
   },
   "file_extension": ".py",
   "mimetype": "text/x-python",
   "name": "python",
   "nbconvert_exporter": "python",
   "pygments_lexer": "ipython3",
   "version": "3.13.7"
  }
 },
 "nbformat": 4,
 "nbformat_minor": 5
}
