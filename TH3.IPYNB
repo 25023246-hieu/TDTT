{
 "cells": [
  {
   "cell_type": "code",
   "execution_count": null,
   "id": "c3be8aff",
   "metadata": {},
   "outputs": [
    {
     "name": "stdout",
     "output_type": "stream",
     "text": [
      "2 1\n"
     ]
    }
   ],
   "source": [
    "a , b = map (int, input().split())\n",
    "# ^: kieu bit cua 2 so a va b\n",
    "a = a ^ b \n",
    "b = a ^ b\n",
    "a = a ^ b\n",
    "print (a, b)"
   ]
  },
  {
   "cell_type": "code",
   "execution_count": 15,
   "id": "246af55c",
   "metadata": {},
   "outputs": [
    {
     "name": "stdout",
     "output_type": "stream",
     "text": [
      "8 khong phai la luy thua cua 2\n"
     ]
    }
   ],
   "source": [
    "a = int (input())\n",
    "b=a\n",
    "dem = 0\n",
    "while a != 0:\n",
    "    a = int (a /2)\n",
    "    if a % 2 != 0:\n",
    "        dem += 1\n",
    "        print (b, \"khong phai la luy thua cua 2\")\n",
    "        break\n",
    "if dem == 0:\n",
    "    print (b, \"la luy thua cua 2\")\n",
    " \n"
   ]
  },
  {
   "cell_type": "code",
   "execution_count": null,
   "id": "8be1cbb8",
   "metadata": {},
   "outputs": [
    {
     "name": "stdout",
     "output_type": "stream",
     "text": [
      "1\n"
     ]
    }
   ],
   "source": [
    "m , n = map (int, input().split())\n",
    "a= m / n \n",
    "b = int ( m / n)\n",
    "print (b)"
   ]
  },
  {
   "cell_type": "code",
   "execution_count": 20,
   "id": "d53c5e7b",
   "metadata": {},
   "outputs": [
    {
     "name": "stdout",
     "output_type": "stream",
     "text": [
      "2\n"
     ]
    }
   ],
   "source": [
    "m ,n = map (int, input().split())\n",
    "a = m / n\n",
    "b =int (m / n)\n",
    "if a - b != 0:\n",
    "    print (b +1)\n",
    "else:\n",
    "    print (b)"
   ]
  },
  {
   "cell_type": "code",
   "execution_count": 21,
   "id": "2101defb",
   "metadata": {},
   "outputs": [
    {
     "name": "stdout",
     "output_type": "stream",
     "text": [
      "Odd\n"
     ]
    }
   ],
   "source": [
    "n = int (input())\n",
    "if n % 2 == 0:\n",
    "    print (\"Even\")\n",
    "else:\n",
    "    print (\"Odd\")\n"
   ]
  },
  {
   "cell_type": "code",
   "execution_count": 22,
   "id": "71932a1f",
   "metadata": {},
   "outputs": [
    {
     "name": "stdout",
     "output_type": "stream",
     "text": [
      "Yes\n"
     ]
    }
   ],
   "source": [
    "a , b = map (int, input().split())\n",
    "if a < 0 and b < 0:\n",
    "    print (\"Yes\")\n",
    "else:\n",
    "    print (\"No\")"
   ]
  },
  {
   "cell_type": "code",
   "execution_count": 25,
   "id": "374bb655",
   "metadata": {},
   "outputs": [
    {
     "name": "stdout",
     "output_type": "stream",
     "text": [
      "True\n"
     ]
    }
   ],
   "source": [
    "a = input()\n",
    "b = input()\n",
    "# len : tra ve do dai cua chuoi\n",
    "if len(a) > len(b):\n",
    "    print (\"True\")\n",
    "elif len(a) < len(b):\n",
    "    print (\"False\")"
   ]
  },
  {
   "cell_type": "code",
   "execution_count": null,
   "id": "1f31fe05",
   "metadata": {},
   "outputs": [],
   "source": [
    "a ,b, c = map (int, input().split())\n",
    "if a + b > c and a + c > b and b + c > a:\n",
    "    print (\"Yes\")\n",
    "else:\n",
    "    print (\"No\")"
   ]
  },
  {
   "cell_type": "code",
   "execution_count": 26,
   "id": "4666e176",
   "metadata": {},
   "outputs": [
    {
     "name": "stdout",
     "output_type": "stream",
     "text": [
      "1134\n"
     ]
    }
   ],
   "source": [
    "a ,b, c, d = map (int, input().split())\n",
    "def maximum (a, b, c, d):\n",
    "    max= a\n",
    "    if b > max:\n",
    "        max = b\n",
    "    if c > max:\n",
    "        max = c\n",
    "    if d > max:\n",
    "        max = d\n",
    "    return max\n",
    "print (maximum (a, b, c, d))"
   ]
  },
  {
   "cell_type": "code",
   "execution_count": null,
   "id": "d37dbe1e",
   "metadata": {},
   "outputs": [],
   "source": [
    "a , b , c = map (int, input().split())\n",
    "if a + b > c and b + c > a and a + c > b:\n",
    "    if a == b and b == c:\n",
    "        print (\"tam giac deu\")\n",
    "    elif a == b or b == c or a == c:\n",
    "        print (\"tam giac can\")\n",
    "    elif:\n",
    "        print (\"tam giac thuong\")\n",
    "else:\n",
    "    print (\"khong phai tam giac\")\n",
    "    "
   ]
  },
  {
   "cell_type": "code",
   "execution_count": null,
   "id": "adf45ec1",
   "metadata": {},
   "outputs": [],
   "source": [
    "n = int (input())\n",
    "if ( n % 4 == 0 and n % 100 != 0) or (n % 400 == 0):\n",
    "    print (\"Yes\")\n",
    "else:\n",
    "    print (\"No\")"
   ]
  },
  {
   "cell_type": "code",
   "execution_count": 31,
   "id": "efdde8ef",
   "metadata": {},
   "outputs": [
    {
     "name": "stdout",
     "output_type": "stream",
     "text": [
      "phuong trinh co nghiem x = -0.80\n"
     ]
    }
   ],
   "source": [
    "a , b = map (float, input().split())\n",
    "if a == 0:\n",
    "    if b == 0:\n",
    "        print (\"phuong trinh vo so nghiem\")\n",
    "    else:\n",
    "        print (\"phuong trinh vo nghiem\")\n",
    "else:\n",
    "    x = -b / a\n",
    "    print (\"phuong trinh co nghiem x =\", f'{x:.2f}')"
   ]
  },
  {
   "cell_type": "code",
   "execution_count": 32,
   "id": "c31772ba",
   "metadata": {},
   "outputs": [
    {
     "name": "stdout",
     "output_type": "stream",
     "text": [
      "Kha\n"
     ]
    }
   ],
   "source": [
    "n = float (input())\n",
    "if  n >= 8.0 :\n",
    "    print (\"Gioi\")\n",
    "elif 6.5 <= n < 8.0:\n",
    "    print (\"Kha\")\n",
    "elif 5.0 <= n < 6.5:\n",
    "    print (\"Trung binh\")\n",
    "elif n < 5.0:\n",
    "    print (\"Yeu\")"
   ]
  },
  {
   "cell_type": "code",
   "execution_count": 33,
   "id": "ec6c801a",
   "metadata": {},
   "outputs": [
    {
     "name": "stdout",
     "output_type": "stream",
     "text": [
      "7 6 6\n"
     ]
    }
   ],
   "source": [
    "n = float (input())\n",
    "m = int (n)\n",
    "if n - m >= 0.5 :\n",
    "    q = m + 1\n",
    "else:\n",
    "    q = m\n",
    "print (m +1 , m , q)"
   ]
  },
  {
   "cell_type": "code",
   "execution_count": 35,
   "id": "1f572261",
   "metadata": {},
   "outputs": [
    {
     "name": "stdout",
     "output_type": "stream",
     "text": [
      "cap so nhan \n"
     ]
    }
   ],
   "source": [
    "a , b , c , d = map (int, input().split())\n",
    "if b/a == c/b == d/c:\n",
    "    print (\"cap so nhan \")\n",
    "else :\n",
    "    print (\"khong phai cap so nhan\")"
   ]
  }
 ],
 "metadata": {
  "kernelspec": {
   "display_name": "Python 3",
   "language": "python",
   "name": "python3"
  },
  "language_info": {
   "codemirror_mode": {
    "name": "ipython",
    "version": 3
   },
   "file_extension": ".py",
   "mimetype": "text/x-python",
   "name": "python",
   "nbconvert_exporter": "python",
   "pygments_lexer": "ipython3",
   "version": "3.13.7"
  }
 },
 "nbformat": 4,
 "nbformat_minor": 5
}
