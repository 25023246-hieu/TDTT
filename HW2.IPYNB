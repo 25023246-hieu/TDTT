{
 "cells": [
  {
   "cell_type": "code",
   "execution_count": null,
   "id": "4fec8c09",
   "metadata": {},
   "outputs": [],
   "source": [
    "a,b = map (int, input().split())\n",
    "print ( \"dien tich hinh chu nhat la: \", a*b)\n",
    "print ( \"chu vi hinh chu nhat la: \", (a+b)*2)"
   ]
  },
  {
   "cell_type": "code",
   "execution_count": null,
   "id": "4a777de5",
   "metadata": {},
   "outputs": [],
   "source": [
    "a = int ( input ())\n",
    "print ( \"chu vi hinh tron la: \", 2*3.14*a)\n",
    "print (\"dien tich hinh tron la: \", 3.14*a*a)"
   ]
  },
  {
   "cell_type": "code",
   "execution_count": 4,
   "id": "324e0e1a",
   "metadata": {},
   "outputs": [
    {
     "name": "stdout",
     "output_type": "stream",
     "text": [
      "day la tam giac vuong\n",
      "chu vi tam giac la:  12\n",
      "dien tich tam giac la:  6.0\n"
     ]
    }
   ],
   "source": [
    "a,b,c = map (int, input().split())\n",
    "if a + b > c and a + c > b and b + c > a:\n",
    "    if a == b or a== c or b==c:\n",
    "        print ( \"day la tam giac can\")\n",
    "    elif a==b and a==c :\n",
    "        print ( \"day la tam giac deu\")\n",
    "    elif a**2 + b**2 == c**2 or a**2 + c**2 == b**2 or b**2 + c**2 == a**2:\n",
    "        print ( \"day la tam giac vuong\")\n",
    "    else:\n",
    "        print ( \"day la tam giac thuong\")\n",
    "    print ( \"chu vi tam giac la: \", a+b+c)\n",
    "    p = (a+b+c)/2\n",
    "    print ( \"dien tich tam giac la: \", (p*(p-a)*(p-b)*(p-c))**0.5)\n",
    "else:\n",
    "    print ( \"khong phai la 3 canh cua tam giac\")"
   ]
  },
  {
   "cell_type": "code",
   "execution_count": 5,
   "id": "e4ce3761",
   "metadata": {},
   "outputs": [
    {
     "name": "stdout",
     "output_type": "stream",
     "text": [
      "x = -0.8\n"
     ]
    }
   ],
   "source": [
    "a,b= map (int, input().split())\n",
    "if b < 0:\n",
    "    print ( \"x =\",b/a)\n",
    "elif b == 0:\n",
    "    print ( \"x = 0\")\n",
    "elif b > 0:\n",
    "    print ( \"x =\", -b/a)"
   ]
  },
  {
   "cell_type": "code",
   "execution_count": null,
   "id": "fbe0dea0",
   "metadata": {},
   "outputs": [],
   "source": [
    "import math\n",
    "a,b,c = map (int, input().split())\n",
    "dt = b*b - 4*a*c\n",
    "s=math.sqrt(dt)\n",
    "if dt < 0:\n",
    "    print ( \"phuong trinh vo nghiem\")\n",
    "elif dt == 0:\n",
    "    print ( \"phuong trinh co nghiem kep x1 = x2 =\", -b/(2*a))\n",
    "elif dt > 0:\n",
    "    print ( \"phuong trinh co 2 nghiem phan biet\")\n",
    "    print ( \"x1 =\", (-b + s/(2*a)))\n",
    "    print ( \"x2 =\", (-b - s/(2*a)))\n",
    "    "
   ]
  },
  {
   "cell_type": "code",
   "execution_count": null,
   "id": "6a17a6eb",
   "metadata": {},
   "outputs": [],
   "source": [
    "a,b,c,d = map (int, input().split())\n",
    "def maximum (a,b,c,d) :\n",
    "    max = a\n",
    "    if b > max:\n",
    "        max = b\n",
    "    if c > max:\n",
    "        max = c\n",
    "    if d > max:\n",
    "        max = d\n",
    "    return max\n",
    "print ( \"so lon nhat trong 4 so la: \", maximum(a,b,c,d))"
   ]
  },
  {
   "cell_type": "code",
   "execution_count": 8,
   "id": "fa4d587f",
   "metadata": {},
   "outputs": [
    {
     "name": "stdout",
     "output_type": "stream",
     "text": [
      "so nho nhat trong 4 so la:  1\n"
     ]
    }
   ],
   "source": [
    "a,b,c,d = map (int , input (). split())\n",
    "def minimum (a,b,c,d):\n",
    "    min = a\n",
    "    if b < min:\n",
    "        min = b\n",
    "    if c < min:\n",
    "        min = c\n",
    "    if d < min:\n",
    "        min = d\n",
    "    return min\n",
    "print ( \"so nho nhat trong 4 so la: \", minimum(a,b,c,d))\n"
   ]
  },
  {
   "cell_type": "code",
   "execution_count": 12,
   "id": "618ca9f4",
   "metadata": {},
   "outputs": [
    {
     "name": "stdout",
     "output_type": "stream",
     "text": [
      " y = 4.00\n",
      "x = -2.00\n"
     ]
    }
   ],
   "source": [
    "a,b,m = map ( float , input (). split ())\n",
    "c,d,n = map ( float , input (). split ())\n",
    "th = c/a\n",
    "a = a * th\n",
    "b = b * th\n",
    "m = m * th\n",
    "c= a - c\n",
    "d = b - d\n",
    "n = m -n\n",
    "print ( \" y =\",f'{n/d:.2f}')\n",
    "print ( \"x =\", f'{((m - b * n/d)/a):.2f}')"
   ]
  },
  {
   "cell_type": "code",
   "execution_count": 13,
   "id": "f9881067",
   "metadata": {},
   "outputs": [
    {
     "name": "stdout",
     "output_type": "stream",
     "text": [
      "1 gio 16 phut 7 giay\n"
     ]
    }
   ],
   "source": [
    "x = int ( input ())\n",
    "hour = int (x / 3600)\n",
    "minute = int ((x % 3600) / 60)\n",
    "second = int ((x % 3600) % 60)\n",
    "print ( hour, \"gio\", minute, \"phut\", second, \"giay\")\n"
   ]
  },
  {
   "cell_type": "code",
   "execution_count": 14,
   "id": "5eb61f6f",
   "metadata": {},
   "outputs": [
    {
     "name": "stdout",
     "output_type": "stream",
     "text": [
      " diem nam trong duong tron\n"
     ]
    }
   ],
   "source": [
    "a,b, r= map (int , input (). split ())\n",
    "x ,y = map  (int , input (). split ())\n",
    "if (x -a)**2 + (y-b)**2 <= r**2:\n",
    "    print (\" diem nam trong duong tron\")\n",
    "else:\n",
    "    print (\" diem nam ngoai duong tron\")"
   ]
  },
  {
   "cell_type": "code",
   "execution_count": 17,
   "id": "39c0c34d",
   "metadata": {},
   "outputs": [
    {
     "name": "stdout",
     "output_type": "stream",
     "text": [
      "18.767569280959865\n"
     ]
    }
   ],
   "source": [
    "x , y = map ( float , input (). split ())\n",
    "print ( x**y)"
   ]
  }
 ],
 "metadata": {
  "kernelspec": {
   "display_name": "Python 3",
   "language": "python",
   "name": "python3"
  },
  "language_info": {
   "name": "python",
   "version": "3.13.7"
  }
 },
 "nbformat": 4,
 "nbformat_minor": 5
}
